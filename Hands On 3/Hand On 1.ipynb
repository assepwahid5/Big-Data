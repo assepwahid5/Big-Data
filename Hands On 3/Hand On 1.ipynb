{
 "cells": [
  {
   "cell_type": "code",
   "execution_count": 5,
   "metadata": {
    "colab": {
     "base_uri": "https://localhost:8080/"
    },
    "executionInfo": {
     "elapsed": 1379,
     "status": "ok",
     "timestamp": 1756291658073,
     "user": {
      "displayName": "Assep Wahid",
      "userId": "05595904825858952207"
     },
     "user_tz": -420
    },
    "id": "qCpzK2SnAOGx",
    "outputId": "9dd683f2-423e-4fc1-f144-da88be08c4b4"
   },
   "outputs": [
    {
     "name": "stdout",
     "output_type": "stream",
     "text": [
      "+-----+----+---------+--------+------+\n",
      "| Nama|Usia|Pekerjaan|    Hobi|Gender|\n",
      "+-----+----+---------+--------+------+\n",
      "|  Ali|  34|  Teknisi| Membaca|     L|\n",
      "| Budi|  23|  Teknisi| Menulis|     L|\n",
      "|Citra|  29|    Admin|Menyanyi|     P|\n",
      "| Dina|  45|    Admin| Melukis|     P|\n",
      "+-----+----+---------+--------+------+\n",
      "\n"
     ]
    }
   ],
   "source": [
    "# Tugas 1\n",
    "\n",
    "from pyspark.sql import SparkSession\n",
    "\n",
    "# Memulai Spark session\n",
    "spark = SparkSession.builder.appName(\"BigDataPractice\").getOrCreate()\n",
    "\n",
    "# Membuat DataFrame sederhana\n",
    "data = [(\"Ali\", 34, \"Teknisi\",\"Membaca\",\"L\"), (\"Budi\", 23, \"Teknisi\",\"Menulis\",\"L\"), (\"Citra\", 29,  \"Admin\",\"Menyanyi\",\"P\"), (\"Dina\", 45,  \"Admin\",\"Melukis\",\"P\")]\n",
    "columns = [\"Nama\", \"Usia\",\"Pekerjaan\",\"Hobi\",\"Gender\"]\n",
    "df = spark.createDataFrame(data, columns)\n",
    "\n",
    "# Menampilkan DataFrame\n",
    "df.show()"
   ]
  },
  {
   "cell_type": "code",
   "execution_count": 6,
   "metadata": {},
   "outputs": [
    {
     "name": "stdout",
     "output_type": "stream",
     "text": [
      "+-----+----+\n",
      "| Nama|Usia|\n",
      "+-----+----+\n",
      "|  Ali|  34|\n",
      "| Budi|  23|\n",
      "|Citra|  29|\n",
      "| Dina|  45|\n",
      "+-----+----+\n",
      "\n"
     ]
    }
   ],
   "source": [
    "from pyspark.sql import SparkSession\n",
    "\n",
    "# Memulai Spark session\n",
    "spark = SparkSession.builder.appName(\"BigDataPractice\").getOrCreate()\n",
    "\n",
    "# Membuat DataFrame sederhana\n",
    "data = [(\"Ali\", 34), (\"Budi\", 23), (\"Citra\", 29), (\"Dina\", 45)]\n",
    "columns = [\"Nama\", \"Usia\"]\n",
    "df = spark.createDataFrame(data, columns)\n",
    "\n",
    "# Menampilkan DataFrame\n",
    "df.show()"
   ]
  },
  {
   "cell_type": "code",
   "execution_count": 7,
   "metadata": {
    "colab": {
     "base_uri": "https://localhost:8080/"
    },
    "executionInfo": {
     "elapsed": 3935,
     "status": "ok",
     "timestamp": 1756292962324,
     "user": {
      "displayName": "Assep Wahid",
      "userId": "05595904825858952207"
     },
     "user_tz": -420
    },
    "id": "24AYfuGPN7mZ",
    "outputId": "bd25b553-34ff-4125-9576-61b4120aa555"
   },
   "outputs": [
    {
     "name": "stdout",
     "output_type": "stream",
     "text": [
      "+-----+----+\n",
      "| Nama|Usia|\n",
      "+-----+----+\n",
      "|  Ali|  34|\n",
      "| Budi|  23|\n",
      "|Citra|  29|\n",
      "| Dina|  45|\n",
      "+-----+----+\n",
      "\n",
      "+----+----+\n",
      "|Nama|Usia|\n",
      "+----+----+\n",
      "| Ali|  34|\n",
      "|Dina|  45|\n",
      "+----+----+\n",
      "\n",
      "+---------+\n",
      "|avg(Usia)|\n",
      "+---------+\n",
      "|    32.75|\n",
      "+---------+\n",
      "\n",
      "+-----+----+\n",
      "| Nama|Usia|\n",
      "+-----+----+\n",
      "| Dina|  45|\n",
      "|  Ali|  34|\n",
      "|Citra|  29|\n",
      "| Budi|  23|\n",
      "+-----+----+\n",
      "\n"
     ]
    }
   ],
   "source": [
    "from pyspark.sql import SparkSession\n",
    "\n",
    "# Memulai Spark session\n",
    "spark = SparkSession.builder.appName(\"BigDataPractice\").getOrCreate()\n",
    "\n",
    "# Membuat DataFrame sederhana\n",
    "data = [(\"Ali\", 34), (\"Budi\", 23), (\"Citra\", 29), (\"Dina\", 45)]\n",
    "columns = [\"Nama\", \"Usia\"]\n",
    "df = spark.createDataFrame(data, columns)\n",
    "\n",
    "# Menampilkan DataFrame\n",
    "df.show()\n",
    "\n",
    "# Filtering data\n",
    "df_filtered = df.filter(df['Usia'] > 30)\n",
    "df_filtered.show()\n",
    "\n",
    "# Menghitung rata-rata usia\n",
    "from pyspark.sql.functions import avg\n",
    "df.groupBy().agg(avg(\"Usia\")).show()\n",
    "\n",
    "# Mengurutkan data berdasarkan usia\n",
    "df_sorted = df.orderBy(\"Usia\", ascending=False)\n",
    "df_sorted.show()\n"
   ]
  },
  {
   "cell_type": "code",
   "execution_count": 8,
   "metadata": {
    "colab": {
     "base_uri": "https://localhost:8080/"
    },
    "executionInfo": {
     "elapsed": 1460,
     "status": "ok",
     "timestamp": 1756298054939,
     "user": {
      "displayName": "Assep Wahid",
      "userId": "05595904825858952207"
     },
     "user_tz": -420
    },
    "id": "y-KT3ko4PZAp",
    "outputId": "1c5cb47c-fb0e-43ff-ac83-dbeadccfa8bc"
   },
   "outputs": [
    {
     "name": "stdout",
     "output_type": "stream",
     "text": [
      "+-----+----+---------+--------+------+\n",
      "| Nama|Usia|Pekerjaan|    Hobi|Gender|\n",
      "+-----+----+---------+--------+------+\n",
      "|  Ali|  34|  Teknisi| Membaca|     L|\n",
      "| Budi|  23|  Teknisi| Menulis|     L|\n",
      "|Citra|  29|    Admin|Menyanyi|     P|\n",
      "| Dina|  45|    Admin| Melukis|     P|\n",
      "+-----+----+---------+--------+------+\n",
      "\n",
      "+----+----+---------+-------+------+\n",
      "|Nama|Usia|Pekerjaan|   Hobi|Gender|\n",
      "+----+----+---------+-------+------+\n",
      "| Ali|  34|  Teknisi|Membaca|     L|\n",
      "|Budi|  23|  Teknisi|Menulis|     L|\n",
      "+----+----+---------+-------+------+\n",
      "\n",
      "+---------+\n",
      "|avg(Usia)|\n",
      "+---------+\n",
      "|    32.75|\n",
      "+---------+\n",
      "\n",
      "+-----+----+---------+--------+------+\n",
      "| Nama|Usia|Pekerjaan|    Hobi|Gender|\n",
      "+-----+----+---------+--------+------+\n",
      "| Dina|  45|    Admin| Melukis|     P|\n",
      "|Citra|  29|    Admin|Menyanyi|     P|\n",
      "| Budi|  23|  Teknisi| Menulis|     L|\n",
      "|  Ali|  34|  Teknisi| Membaca|     L|\n",
      "+-----+----+---------+--------+------+\n",
      "\n"
     ]
    }
   ],
   "source": [
    "# Tugas 2\n",
    "\n",
    "from pyspark.sql import SparkSession\n",
    "\n",
    "# Memulai Spark session\n",
    "spark = SparkSession.builder.appName(\"BigDataPractice\").getOrCreate()\n",
    "\n",
    "# Membuat DataFrame sederhana\n",
    "data = [(\"Ali\", 34, \"Teknisi\",\"Membaca\",\"L\"), (\"Budi\", 23, \"Teknisi\",\"Menulis\",\"L\"), (\"Citra\", 29,  \"Admin\",\"Menyanyi\",\"P\"), (\"Dina\", 45,  \"Admin\",\"Melukis\",\"P\")]\n",
    "columns = [\"Nama\", \"Usia\",\"Pekerjaan\",\"Hobi\",\"Gender\"]\n",
    "df = spark.createDataFrame(data, columns)\n",
    "\n",
    "# Menampilkan DataFrame\n",
    "df.show()\n",
    "\n",
    "# Filtering data\n",
    "df_filtered = df.filter(df['Gender'] == \"L\")\n",
    "df_filtered.show()\n",
    "\n",
    "# Menghitung rata-rata usia\n",
    "from pyspark.sql.functions import avg\n",
    "df.groupBy().agg(avg(\"Usia\")).show()\n",
    "\n",
    "# Mengurutkan data berdasarkan usia\n",
    "df_sorted = df.orderBy(\"Nama\", ascending=False)\n",
    "df_sorted.show()"
   ]
  },
  {
   "cell_type": "code",
   "execution_count": 9,
   "metadata": {
    "colab": {
     "base_uri": "https://localhost:8080/",
     "height": 175
    },
    "executionInfo": {
     "elapsed": 20,
     "status": "ok",
     "timestamp": 1756298619127,
     "user": {
      "displayName": "Assep Wahid",
      "userId": "05595904825858952207"
     },
     "user_tz": -420
    },
    "id": "nd78VQ53jcoW",
    "outputId": "5cde2bef-625d-460b-e49f-1632253046f3"
   },
   "outputs": [
    {
     "data": {
      "text/html": [
       "<div>\n",
       "<style scoped>\n",
       "    .dataframe tbody tr th:only-of-type {\n",
       "        vertical-align: middle;\n",
       "    }\n",
       "\n",
       "    .dataframe tbody tr th {\n",
       "        vertical-align: top;\n",
       "    }\n",
       "\n",
       "    .dataframe thead th {\n",
       "        text-align: right;\n",
       "    }\n",
       "</style>\n",
       "<table border=\"1\" class=\"dataframe\">\n",
       "  <thead>\n",
       "    <tr style=\"text-align: right;\">\n",
       "      <th></th>\n",
       "      <th>Nama</th>\n",
       "      <th>Usia</th>\n",
       "    </tr>\n",
       "  </thead>\n",
       "  <tbody>\n",
       "    <tr>\n",
       "      <th>0</th>\n",
       "      <td>Ali</td>\n",
       "      <td>34</td>\n",
       "    </tr>\n",
       "    <tr>\n",
       "      <th>1</th>\n",
       "      <td>Budi</td>\n",
       "      <td>23</td>\n",
       "    </tr>\n",
       "    <tr>\n",
       "      <th>2</th>\n",
       "      <td>Citra</td>\n",
       "      <td>29</td>\n",
       "    </tr>\n",
       "    <tr>\n",
       "      <th>3</th>\n",
       "      <td>Dina</td>\n",
       "      <td>45</td>\n",
       "    </tr>\n",
       "  </tbody>\n",
       "</table>\n",
       "</div>"
      ],
      "text/plain": [
       "    Nama  Usia\n",
       "0    Ali    34\n",
       "1   Budi    23\n",
       "2  Citra    29\n",
       "3   Dina    45"
      ]
     },
     "execution_count": 9,
     "metadata": {},
     "output_type": "execute_result"
    }
   ],
   "source": [
    "import pandas as pd\n",
    "\n",
    "# Membuat DataFrame Pandas\n",
    "data_pandas = {\"Nama\": [\"Ali\", \"Budi\", \"Citra\", \"Dina\"], \"Usia\": [34, 23, 29, 45]}\n",
    "df_pandas = pd.DataFrame(data_pandas)\n",
    "\n",
    "# Menampilkan DataFrame Pandas\n",
    "df_pandas"
   ]
  },
  {
   "cell_type": "code",
   "execution_count": 10,
   "metadata": {
    "colab": {
     "base_uri": "https://localhost:8080/",
     "height": 112
    },
    "executionInfo": {
     "elapsed": 28,
     "status": "ok",
     "timestamp": 1756301142678,
     "user": {
      "displayName": "Assep Wahid",
      "userId": "05595904825858952207"
     },
     "user_tz": -420
    },
    "id": "ymfc4SYPj2Gx",
    "outputId": "0eace4e9-ea7f-4788-a421-c1c1b04d0064"
   },
   "outputs": [
    {
     "data": {
      "text/html": [
       "<div>\n",
       "<style scoped>\n",
       "    .dataframe tbody tr th:only-of-type {\n",
       "        vertical-align: middle;\n",
       "    }\n",
       "\n",
       "    .dataframe tbody tr th {\n",
       "        vertical-align: top;\n",
       "    }\n",
       "\n",
       "    .dataframe thead th {\n",
       "        text-align: right;\n",
       "    }\n",
       "</style>\n",
       "<table border=\"1\" class=\"dataframe\">\n",
       "  <thead>\n",
       "    <tr style=\"text-align: right;\">\n",
       "      <th></th>\n",
       "      <th>Nama</th>\n",
       "      <th>Usia</th>\n",
       "      <th>Asal Daerah</th>\n",
       "      <th>Pekerjaan</th>\n",
       "      <th>Status perkawinan</th>\n",
       "    </tr>\n",
       "  </thead>\n",
       "  <tbody>\n",
       "    <tr>\n",
       "      <th>1</th>\n",
       "      <td>Budi</td>\n",
       "      <td>23</td>\n",
       "      <td>Bandung</td>\n",
       "      <td>Dokter</td>\n",
       "      <td>Menikah</td>\n",
       "    </tr>\n",
       "    <tr>\n",
       "      <th>2</th>\n",
       "      <td>Citra</td>\n",
       "      <td>29</td>\n",
       "      <td>Sumatera</td>\n",
       "      <td>Polisi</td>\n",
       "      <td>Lajang</td>\n",
       "    </tr>\n",
       "  </tbody>\n",
       "</table>\n",
       "</div>"
      ],
      "text/plain": [
       "    Nama  Usia Asal Daerah Pekerjaan Status perkawinan\n",
       "1   Budi    23     Bandung    Dokter           Menikah\n",
       "2  Citra    29    Sumatera    Polisi            Lajang"
      ]
     },
     "execution_count": 10,
     "metadata": {},
     "output_type": "execute_result"
    }
   ],
   "source": [
    "# Tugas 3\n",
    "import pandas as pd\n",
    "\n",
    "# Membuat DataFrame Pandas\n",
    "data_pandas = {\"Nama\": [\"Ali\", \"Budi\", \"Citra\", \"Dina\"],\n",
    "               \"Usia\": [34, 23, 29, 45],\n",
    "               \"Asal Daerah\": [\"Jakarta\",\"Bandung\",\"Sumatera\",\"Bogor\"],\"Pekerjaan\" : [\"Teknisi\",\"Dokter\",\"Polisi\",\"Tentara\"],\n",
    "               \"Status perkawinan\" : [\"Lajang\",\"Menikah\",\"Lajang\",\"Menikah\"]}\n",
    "df_pandas = pd.DataFrame(data_pandas)\n",
    "\n",
    "# Menampilkan DataFrame Pandas\n",
    "df_pandas\n",
    "\n",
    "# Filtering data\n",
    "df_pandas[df_pandas['Usia'] < 30]"
   ]
  },
  {
   "cell_type": "code",
   "execution_count": 11,
   "metadata": {
    "colab": {
     "base_uri": "https://localhost:8080/",
     "height": 753
    },
    "executionInfo": {
     "elapsed": 157,
     "status": "ok",
     "timestamp": 1756303549374,
     "user": {
      "displayName": "Assep Wahid",
      "userId": "05595904825858952207"
     },
     "user_tz": -420
    },
    "id": "RSc3zY0n0IhR",
    "outputId": "86030e1b-cf6e-4fa1-bd6e-c3d2932121d6"
   },
   "outputs": [
    {
     "name": "stdout",
     "output_type": "stream",
     "text": [
      "            Usia\n",
      "count   4.000000\n",
      "mean   32.750000\n",
      "std     9.322911\n",
      "min    23.000000\n",
      "25%    27.500000\n",
      "50%    31.500000\n",
      "75%    36.750000\n",
      "max    45.000000\n"
     ]
    },
    {
     "ename": "AttributeError",
     "evalue": "'Series' object has no attribute 'df_joined'",
     "output_type": "error",
     "traceback": [
      "\u001b[31m---------------------------------------------------------------------------\u001b[39m",
      "\u001b[31mAttributeError\u001b[39m                            Traceback (most recent call last)",
      "\u001b[32m/tmp/ipykernel_42424/2240966074.py\u001b[39m in \u001b[36m?\u001b[39m\u001b[34m()\u001b[39m\n\u001b[32m     16\u001b[39m print(df_pandas.describe())\n\u001b[32m     17\u001b[39m \n\u001b[32m     18\u001b[39m \u001b[38;5;66;03m# Plotting Data\u001b[39;00m\n\u001b[32m     19\u001b[39m \u001b[38;5;28;01mimport\u001b[39;00m matplotlib.pyplot \u001b[38;5;28;01mas\u001b[39;00m plt\n\u001b[32m---> \u001b[39m\u001b[32m20\u001b[39m df_joined[\u001b[33m'Nama'\u001b[39m].df_joined.plot.area()\n\u001b[32m     21\u001b[39m plt.show()\n\u001b[32m     22\u001b[39m \n\u001b[32m     23\u001b[39m df_joined\n",
      "\u001b[32m~/anaconda3/envs/BigData1/lib/python3.13/site-packages/pandas/core/generic.py\u001b[39m in \u001b[36m?\u001b[39m\u001b[34m(self, name)\u001b[39m\n\u001b[32m   6314\u001b[39m             \u001b[38;5;28;01mand\u001b[39;00m name \u001b[38;5;28;01mnot\u001b[39;00m \u001b[38;5;28;01min\u001b[39;00m self._accessors\n\u001b[32m   6315\u001b[39m             \u001b[38;5;28;01mand\u001b[39;00m self._info_axis._can_hold_identifiers_and_holds_name(name)\n\u001b[32m   6316\u001b[39m         ):\n\u001b[32m   6317\u001b[39m             \u001b[38;5;28;01mreturn\u001b[39;00m self[name]\n\u001b[32m-> \u001b[39m\u001b[32m6318\u001b[39m         \u001b[38;5;28;01mreturn\u001b[39;00m object.__getattribute__(self, name)\n",
      "\u001b[31mAttributeError\u001b[39m: 'Series' object has no attribute 'df_joined'"
     ]
    }
   ],
   "source": [
    "import pandas as pd\n",
    "\n",
    "# Membuat DataFrame Pandas\n",
    "data_pandas = {\"Nama\": [\"Ali\", \"Budi\", \"Citra\", \"Dina\"], \"Usia\": [34, 23, 29, 45]}\n",
    "df_pandas = pd.DataFrame(data_pandas)\n",
    "\n",
    "# Membuat DataFrame kedua\n",
    "data_pandas_2 = {\"Nama\": [\"Ali\", \"Budi\", \"Citra\", \"Dina\"], \"Pekerjaan\": [\"Dokter\", \"Guru\", \"Insinyur\", \"Perawat\"]}\n",
    "df_pandas_2 = pd.DataFrame(data_pandas_2)\n",
    "\n",
    "# Join antara dua DataFrame\n",
    "df_joined = pd.merge(df_pandas, df_pandas_2, on=\"Nama\")\n",
    "\n",
    "\n",
    "# Menghitung statistik deskriptif\n",
    "print(df_pandas.describe())\n",
    "\n",
    "# Plotting Data\n",
    "import matplotlib.pyplot as plt\n",
    "df_joined['Nama'].df_joined.plot.area()\n",
    "plt.show()\n",
    "\n",
    "df_joined"
   ]
  },
  {
   "cell_type": "code",
   "execution_count": 12,
   "metadata": {
    "colab": {
     "base_uri": "https://localhost:8080/",
     "height": 1000
    },
    "executionInfo": {
     "elapsed": 469,
     "status": "ok",
     "timestamp": 1756303367361,
     "user": {
      "displayName": "Assep Wahid",
      "userId": "05595904825858952207"
     },
     "user_tz": -420
    },
    "id": "4WBGmIn7ulkk",
    "outputId": "ec039c30-6750-497b-e3cb-b94b0d4681ea"
   },
   "outputs": [
    {
     "name": "stdout",
     "output_type": "stream",
     "text": [
      "    Nama  Usia Pekerjaan\n",
      "0    Ali    34    Dokter\n",
      "1   Budi    23      Guru\n",
      "2  Citra    29  Insinyur\n",
      "3   Dina    45   Perawat\n",
      "            Usia\n",
      "count   4.000000\n",
      "mean   32.750000\n",
      "std     9.322911\n",
      "min    23.000000\n",
      "25%    27.500000\n",
      "50%    31.500000\n",
      "75%    36.750000\n",
      "max    45.000000\n"
     ]
    },
    {
     "data": {
      "image/png": "[encoded data removed]",
      "text/plain": [
       "<Figure size 640x480 with 1 Axes>"
      ]
     },
     "metadata": {},
     "output_type": "display_data"
    },
    {
     "data": {
      "image/png": "[encoded data removed]",
      "text/plain": [
       "<Figure size 640x480 with 1 Axes>"
      ]
     },
     "metadata": {},
     "output_type": "display_data"
    },
    {
     "data": {
      "image/png": "[encoded data removed]",
      "text/plain": [
       "<Figure size 800x800 with 1 Axes>"
      ]
     },
     "metadata": {},
     "output_type": "display_data"
    },
    {
     "data": {
      "image/png": "[encoded data removed]",
      "text/plain": [
       "<Figure size 640x480 with 1 Axes>"
      ]
     },
     "metadata": {},
     "output_type": "display_data"
    }
   ],
   "source": [
    "import pandas as pd\n",
    "import matplotlib.pyplot as plt\n",
    "# Membuat DataFrame Pandas\n",
    "data_pandas = {\"Nama\": [\"Ali\", \"Budi\", \"Citra\", \"Dina\"],\n",
    "               \"Usia\": [34, 23, 29, 45]}\n",
    "df_pandas = pd.DataFrame(data_pandas)\n",
    "\n",
    "# Membuat DataFrame kedua\n",
    "data_pandas_2 = {\"Nama\": [\"Ali\", \"Budi\", \"Citra\", \"Dina\"],\n",
    "                 \"Pekerjaan\": [\"Dokter\", \"Guru\", \"Insinyur\", \"Perawat\"]}\n",
    "df_pandas_2 = pd.DataFrame(data_pandas_2)\n",
    "\n",
    "# Join antara dua DataFrame\n",
    "df_joined = pd.merge(df_pandas, df_pandas_2, on=\"Nama\")\n",
    "print(df_joined)\n",
    "\n",
    "# Menghitung statistik deskriptif\n",
    "print(df_pandas.describe())\n",
    "\n",
    "# Plotting Data\n",
    "df_joined.plot(x='Nama', y='Usia', kind='bar', title='Usia')\n",
    "plt.show()\n",
    "df_joined\n",
    "df_joined.plot.hist()\n",
    "df_joined.plot(subplots=True, figsize=(8, 8));\n",
    "df_joined.plot.bar(stacked=True);\n",
    "df_pandas['Usia'].plot(kind='bar')\n",
    "plt.show()"
   ]
  },
  {
   "cell_type": "code",
   "execution_count": 13,
   "metadata": {
    "colab": {
     "base_uri": "https://localhost:8080/",
     "height": 649
    },
    "executionInfo": {
     "elapsed": 128,
     "status": "ok",
     "timestamp": 1756303164858,
     "user": {
      "displayName": "Assep Wahid",
      "userId": "05595904825858952207"
     },
     "user_tz": -420
    },
    "id": "i9Hn_OQ902rn",
    "outputId": "d60de792-5527-44fa-cb67-43c31b901eba"
   },
   "outputs": [
    {
     "data": {
      "image/png": "[encoded data removed]",
      "text/plain": [
       "<Figure size 640x480 with 1 Axes>"
      ]
     },
     "metadata": {},
     "output_type": "display_data"
    },
    {
     "data": {
      "text/html": [
       "<div>\n",
       "<style scoped>\n",
       "    .dataframe tbody tr th:only-of-type {\n",
       "        vertical-align: middle;\n",
       "    }\n",
       "\n",
       "    .dataframe tbody tr th {\n",
       "        vertical-align: top;\n",
       "    }\n",
       "\n",
       "    .dataframe thead th {\n",
       "        text-align: right;\n",
       "    }\n",
       "</style>\n",
       "<table border=\"1\" class=\"dataframe\">\n",
       "  <thead>\n",
       "    <tr style=\"text-align: right;\">\n",
       "      <th></th>\n",
       "      <th>Nama</th>\n",
       "      <th>Usia</th>\n",
       "      <th>Pekerjaan</th>\n",
       "    </tr>\n",
       "  </thead>\n",
       "  <tbody>\n",
       "    <tr>\n",
       "      <th>0</th>\n",
       "      <td>Ali</td>\n",
       "      <td>34</td>\n",
       "      <td>Dokter</td>\n",
       "    </tr>\n",
       "    <tr>\n",
       "      <th>1</th>\n",
       "      <td>Budi</td>\n",
       "      <td>23</td>\n",
       "      <td>Guru</td>\n",
       "    </tr>\n",
       "    <tr>\n",
       "      <th>2</th>\n",
       "      <td>Citra</td>\n",
       "      <td>29</td>\n",
       "      <td>Insinyur</td>\n",
       "    </tr>\n",
       "    <tr>\n",
       "      <th>3</th>\n",
       "      <td>Dina</td>\n",
       "      <td>45</td>\n",
       "      <td>Perawat</td>\n",
       "    </tr>\n",
       "  </tbody>\n",
       "</table>\n",
       "</div>"
      ],
      "text/plain": [
       "    Nama  Usia Pekerjaan\n",
       "0    Ali    34    Dokter\n",
       "1   Budi    23      Guru\n",
       "2  Citra    29  Insinyur\n",
       "3   Dina    45   Perawat"
      ]
     },
     "execution_count": 13,
     "metadata": {},
     "output_type": "execute_result"
    }
   ],
   "source": [
    "#Tugas 4\n",
    "import pandas as pd\n",
    "import matplotlib.pyplot as plt\n",
    "\n",
    "# Membuat DataFrame Pandas\n",
    "data_pandas = {\"Nama\": [\"Ali\", \"Budi\", \"Citra\", \"Dina\"],\n",
    "               \"Usia\": [34, 23, 29, 45]}\n",
    "df_pandas = pd.DataFrame(data_pandas)\n",
    "\n",
    "# Membuat DataFrame kedua\n",
    "data_pandas_2 = {\"Nama\": [\"Ali\", \"Budi\", \"Citra\", \"Dina\"],\n",
    "                 \"Pekerjaan\": [\"Dokter\", \"Guru\", \"Insinyur\", \"Perawat\"]}\n",
    "df_pandas_2 = pd.DataFrame(data_pandas_2)\n",
    "\n",
    "# Join antara dua DataFrame\n",
    "df_joined = pd.merge(df_pandas, df_pandas_2, on='Nama')\n",
    "\n",
    "# Plotting Data\n",
    "df_joined.plot(x='Nama', y='Usia', kind='bar', title='Usia')\n",
    "plt.show()\n",
    "df_joined"
   ]
  },
  {
   "cell_type": "code",
   "execution_count": 14,
   "metadata": {
    "colab": {
     "base_uri": "https://localhost:8080/",
     "height": 679
    },
    "executionInfo": {
     "elapsed": 350,
     "status": "ok",
     "timestamp": 1756305265416,
     "user": {
      "displayName": "Assep Wahid",
      "userId": "05595904825858952207"
     },
     "user_tz": -420
    },
    "id": "QbrdSIeX50td",
    "outputId": "c6267c3f-4d88-4845-b9f4-7617b09ac3a5"
   },
   "outputs": [
    {
     "name": "stdout",
     "output_type": "stream",
     "text": [
      "    Nama  Usia Asal Daerah Pekerjaan Status perkawinan  \\\n",
      "0    Ali    34     Jakarta   Teknisi            Lajang   \n",
      "1   Budi    23     Bandung    Dokter           Menikah   \n",
      "2  Citra    29    Sumatera    Polisi            Lajang   \n",
      "3   Dina    45       Bogor   Tentara           Menikah   \n",
      "\n",
      "                         Email  Domisili  \n",
      "0    Ali.jafran@trustech.ac.id  Magelang  \n",
      "1    Budisuseno@trustech.ac.id  Magelang  \n",
      "2  Citrasusiana@trustech.ac.id  Magelang  \n",
      "3     Dina.indi@trustech.ac.id  Magelang  \n"
     ]
    },
    {
     "data": {
      "image/png": "[encoded data removed]",
      "text/plain": [
       "<Figure size 640x480 with 1 Axes>"
      ]
     },
     "metadata": {},
     "output_type": "display_data"
    }
   ],
   "source": [
    "# Tugas 4\n",
    "\n",
    "import pandas as pd\n",
    "\n",
    "# Membuat DataFrame Pandas\n",
    "data_pandas = {\"Nama\": [\"Ali\", \"Budi\", \"Citra\", \"Dina\"],\n",
    "               \"Usia\": [34, 23, 29, 45],\n",
    "               \"Asal Daerah\": [\"Jakarta\",\"Bandung\",\"Sumatera\",\"Bogor\"],\n",
    "               \"Pekerjaan\" : [\"Teknisi\",\"Dokter\",\"Polisi\",\"Tentara\"],\n",
    "               \"Status perkawinan\" : [\"Lajang\",\"Menikah\",\"Lajang\",\"Menikah\"]}\n",
    "df_pandas = pd.DataFrame(data_pandas)\n",
    "\n",
    "# Membuat Dataframe Pandas 2\n",
    "data_pandas_2 = {\"Nama\": [\"Ali\", \"Budi\", \"Citra\", \"Dina\"],\n",
    "                 \"Email\": [\"Ali.jafran@trustech.ac.id\",\"Budisuseno@trustech.ac.id\",\"Citrasusiana@trustech.ac.id\",\"Dina.indi@trustech.ac.id\"],\n",
    "                 \"Domisili\": [\"Magelang\",\"Magelang\",\"Magelang\",\"Magelang\"]}\n",
    "df_pandas_2 = pd.DataFrame(data_pandas_2)\n",
    "\n",
    "# Join antara dua DataFrame\n",
    "df_joined = pd.merge(df_pandas, df_pandas_2, on=\"Nama\")\n",
    "print(df_joined)\n",
    "\n",
    "# Plotting Data\n",
    "# Plotting Data\n",
    "import matplotlib.pyplot as plt\n",
    "df_joined.plot.line(x='Nama', y='Usia', title='Usia')\n",
    "plt.show()\n"
   ]
  },
  {
   "cell_type": "code",
   "execution_count": 15,
   "metadata": {
    "colab": {
     "base_uri": "https://localhost:8080/"
    },
    "executionInfo": {
     "elapsed": 1227,
     "status": "ok",
     "timestamp": 1756310787970,
     "user": {
      "displayName": "Assep Wahid",
      "userId": "05595904825858952207"
     },
     "user_tz": -420
    },
    "id": "LEsO7u3c9dVi",
    "outputId": "c351d7f6-8eb9-4dd6-ed96-18b95ba609ab"
   },
   "outputs": [
    {
     "name": "stdout",
     "output_type": "stream",
     "text": [
      "+-----+----+-----------+---------+-----------------+\n",
      "| Nama|Usia|Asal Daerah|Pekerjaan|Status perkawinan|\n",
      "+-----+----+-----------+---------+-----------------+\n",
      "|  Ali|  34|    Jakarta|  Teknisi|           Lajang|\n",
      "| Budi|  23|    Bandung|   Dokter|          Menikah|\n",
      "|Citra|  29|   Sumatera|   Polisi|           Lajang|\n",
      "| Dina|  45|      Bogor|  Tentara|          Menikah|\n",
      "+-----+----+-----------+---------+-----------------+\n",
      "\n",
      "Rata-rata Usia  : 32.75\n"
     ]
    }
   ],
   "source": [
    "# Tugas 5\n",
    "\n",
    "# Mengonversi DataFrame dari PySpark ke Pandas\n",
    "df_pandas_from_spark = df.toPandas()\n",
    "\n",
    "# Mengonversi DataFrame dari Pandas ke PySpark\n",
    "df_spark_from_pandas = spark.createDataFrame(df_pandas)\n",
    "\n",
    "# Menampilkan DataFrame hasil konversi\n",
    "df_pandas_from_spark, df_spark_from_pandas.show()\n",
    "\n",
    "# Menghitung Rata-rata Usia\n",
    "rata2 = df.agg(avg(\"Usia\")).collect()[0][0]\n",
    "print(\"Rata-rata Usia  :\", rata2)"
   ]
  },
  {
   "cell_type": "code",
   "execution_count": 16,
   "metadata": {},
   "outputs": [
    {
     "name": "stdout",
     "output_type": "stream",
     "text": [
      "+-----+----+-----------+---------+-----------------+\n",
      "| Nama|Usia|Asal Daerah|Pekerjaan|Status perkawinan|\n",
      "+-----+----+-----------+---------+-----------------+\n",
      "|  Ali|  34|    Jakarta|  Teknisi|           Lajang|\n",
      "| Budi|  23|    Bandung|   Dokter|          Menikah|\n",
      "|Citra|  29|   Sumatera|   Polisi|           Lajang|\n",
      "| Dina|  45|      Bogor|  Tentara|          Menikah|\n",
      "+-----+----+-----------+---------+-----------------+\n",
      "\n"
     ]
    },
    {
     "data": {
      "text/plain": [
       "(    Nama  Usia Pekerjaan      Hobi Gender\n",
       " 0    Ali    34   Teknisi   Membaca      L\n",
       " 1   Budi    23   Teknisi   Menulis      L\n",
       " 2  Citra    29     Admin  Menyanyi      P\n",
       " 3   Dina    45     Admin   Melukis      P,\n",
       " None)"
      ]
     },
     "execution_count": 16,
     "metadata": {},
     "output_type": "execute_result"
    }
   ],
   "source": [
    "# Mengonversi DataFrame dari PySpark ke Pandas\n",
    "df_pandas_from_spark = df.toPandas()\n",
    "\n",
    "# Mengonversi DataFrame dari Pandas ke PySpark\n",
    "df_spark_from_pandas = spark.createDataFrame(df_pandas)\n",
    "\n",
    "# Menampilkan DataFrame hasil konversi\n",
    "df_pandas_from_spark, df_spark_from_pandas.show()"
   ]
  },
  {
   "cell_type": "code",
   "execution_count": 17,
   "metadata": {
    "colab": {
     "base_uri": "https://localhost:8080/"
    },
    "executionInfo": {
     "elapsed": 1545,
     "status": "ok",
     "timestamp": 1756310546719,
     "user": {
      "displayName": "Assep Wahid",
      "userId": "05595904825858952207"
     },
     "user_tz": -420
    },
    "id": "3k7s8pdPO1E0",
    "outputId": "ff700528-268e-4ac9-8d6d-28e758dfd137"
   },
   "outputs": [
    {
     "name": "stdout",
     "output_type": "stream",
     "text": [
      "+-----+----+-----------+---------+-----------------+\n",
      "| Nama|Usia|Asal Daerah|Pekerjaan|Status perkawinan|\n",
      "+-----+----+-----------+---------+-----------------+\n",
      "|  Ali|  34|    Jakarta|  Teknisi|           Lajang|\n",
      "| Budi|  23|    Bandung|   Dokter|          Menikah|\n",
      "|Citra|  29|   Sumatera|   Polisi|           Lajang|\n",
      "| Dina|  45|      Bogor|  Tentara|          Menikah|\n",
      "+-----+----+-----------+---------+-----------------+\n",
      "\n",
      "Usia maksimum: 45\n"
     ]
    }
   ],
   "source": [
    "# Tugas 6\n",
    "\n",
    "from pyspark.sql.functions import max\n",
    "\n",
    "# Mengonversi DataFrame dari PySpark ke Pandas\n",
    "df_pandas_from_spark = df.toPandas()\n",
    "\n",
    "# Mengonversi DataFrame dari Pandas ke PySpark\n",
    "df_spark_from_pandas = spark.createDataFrame(df_pandas)\n",
    "\n",
    "# Menampilkan DataFrame hasil konversi\n",
    "df_pandas_from_spark, df_spark_from_pandas.show()\n",
    "\n",
    "# Menghitung nilai maksimum\n",
    "maks = df.agg(max(\"Usia\")).collect()[0][0]\n",
    "print(\"Usia maksimum:\", maks)"
   ]
  },
  {
   "cell_type": "code",
   "execution_count": null,
   "metadata": {},
   "outputs": [],
   "source": []
  },
  {
   "cell_type": "code",
   "execution_count": null,
   "metadata": {},
   "outputs": [],
   "source": []
  }
 ],
 "metadata": {
  "colab": {
   "authorship_tag": "ABX9TyNzJzXg8/W+MkwIz77nzewL",
   "provenance": []
  },
  "kernelspec": {
   "display_name": "Python 3 (ipykernel)",
   "language": "python",
   "name": "python3"
  },
  "language_info": {
   "codemirror_mode": {
    "name": "ipython",
    "version": 3
   },
   "file_extension": ".py",
   "mimetype": "text/x-python",
   "name": "python",
   "nbconvert_exporter": "python",
   "pygments_lexer": "ipython3",
   "version": "3.13.5"
  }
 },
 "nbformat": 4,
 "nbformat_minor": 4
}
