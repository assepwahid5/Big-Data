{
  "nbformat": 4,
  "nbformat_minor": 0,
  "metadata": {
    "colab": {
      "provenance": []
    },
    "kernelspec": {
      "name": "python3",
      "display_name": "Python 3"
    },
    "language_info": {
      "name": "python"
    }
  },
  "cells": [
    {
      "cell_type": "code",
      "execution_count": 1,
      "metadata": {
        "colab": {
          "base_uri": "https://localhost:8080/"
        },
        "id": "UoFK9PNjG4X7",
        "outputId": "9120399e-4c62-4090-bc29-dafab94d55e3"
      },
      "outputs": [
        {
          "output_type": "stream",
          "name": "stdout",
          "text": [
            "Hasil Map:\n",
            "[('data', 1), ('big', 1), ('data', 1), ('big', 1), ('data', 1), ('hadoop', 1), ('belajar', 1), ('data', 1)]\n",
            "\n",
            "Hasil Shuffle:\n",
            "{'data': [1, 1, 1, 1], 'big': [1, 1], 'hadoop': [1], 'belajar': [1]}\n",
            "\n",
            "Hasil Reduce:\n",
            "{'data': 4, 'big': 2, 'hadoop': 1, 'belajar': 1}\n"
          ]
        }
      ],
      "source": [
        "# Dataset sederhana: daftar kalimat\n",
        "dataset = [\n",
        "    \"data big data\",\n",
        "    \"big data hadoop\",\n",
        "    \"belajar data\"\n",
        "]\n",
        "\n",
        "# Tahap Map: ubah setiap kata jadi pasangan (kata, 1)\n",
        "mapped = []\n",
        "for kalimat in dataset:\n",
        "    for kata in kalimat.split():\n",
        "        mapped.append((kata, 1))\n",
        "\n",
        "print(\"Hasil Map:\")\n",
        "print(mapped)\n",
        "\n",
        "# Tahap Shuffle: kelompokkan berdasarkan kata (key)\n",
        "shuffled = {}\n",
        "for key, value in mapped:\n",
        "    if key in shuffled:\n",
        "        shuffled[key].append(value)\n",
        "    else:\n",
        "        shuffled[key] = [value]\n",
        "\n",
        "print(\"\\nHasil Shuffle:\")\n",
        "print(shuffled)\n",
        "\n",
        "# Tahap Reduce: jumlahkan nilai pada setiap key\n",
        "reduced = {}\n",
        "for key, values in shuffled.items():\n",
        "    reduced[key] = sum(values)\n",
        "\n",
        "print(\"\\nHasil Reduce:\")\n",
        "print(reduced)\n"
      ]
    },
    {
      "cell_type": "code",
      "source": [
        "# Fungsi Map: memecah kalimat jadi pasangan (kata, 1)\n",
        "def map_function(text):\n",
        "    for word in text.split():\n",
        "        yield (word, 1)\n",
        "\n",
        "# Fungsi Reduce: menjumlahkan semua pasangan berdasarkan kata\n",
        "from collections import defaultdict\n",
        "\n",
        "def reduce_function(pairs):\n",
        "    result = defaultdict(int)\n",
        "    for word, count in pairs:\n",
        "        result[word] += count\n",
        "    return result\n",
        "\n",
        "# Dataset sederhana\n",
        "dataset = [\n",
        "    \"data big data\",\n",
        "    \"big data hadoop\",\n",
        "    \"belajar data\",\n",
        "    \"belajar big data menggunakan hadoop\",\n",
        "    \"data hadoop untuk big data\"\n",
        "]\n",
        "\n",
        "# Jalankan Map Function pada setiap kalimat\n",
        "mapped = []\n",
        "for kalimat in dataset:\n",
        "    for pair in map_function(kalimat):\n",
        "        mapped.append(pair)\n",
        "\n",
        "print(\"Hasil Map:\")\n",
        "print(mapped)\n",
        "\n",
        "# Jalankan Reduce Function untuk menghitung jumlah kata\n",
        "reduced = reduce_function(mapped)\n",
        "\n",
        "print(\"\\nHasil Reduce:\")\n",
        "print(dict(reduced))\n"
      ],
      "metadata": {
        "colab": {
          "base_uri": "https://localhost:8080/"
        },
        "id": "-be_axwTFvfw",
        "outputId": "125eb262-b03a-4b26-b847-98baa07073df"
      },
      "execution_count": 1,
      "outputs": [
        {
          "output_type": "stream",
          "name": "stdout",
          "text": [
            "Hasil Map:\n",
            "[('data', 1), ('big', 1), ('data', 1), ('big', 1), ('data', 1), ('hadoop', 1), ('belajar', 1), ('data', 1), ('belajar', 1), ('big', 1), ('data', 1), ('menggunakan', 1), ('hadoop', 1), ('data', 1), ('hadoop', 1), ('untuk', 1), ('big', 1), ('data', 1)]\n",
            "\n",
            "Hasil Reduce:\n",
            "{'data': 7, 'big': 4, 'hadoop': 3, 'belajar': 2, 'menggunakan': 1, 'untuk': 1}\n"
          ]
        }
      ]
    }
  ]
}